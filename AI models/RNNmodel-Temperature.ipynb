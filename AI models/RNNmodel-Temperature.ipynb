{
 "cells": [
  {
   "cell_type": "markdown",
   "id": "9e4ae34b",
   "metadata": {},
   "source": [
    "# CSE3009 - Internet Of Things Project\n",
    "\n",
    "## RNN model for Temperature prediction"
   ]
  },
  {
   "cell_type": "markdown",
   "id": "bd7b67c9",
   "metadata": {},
   "source": [
    "Team members-\n",
    "1. Hartej Singh (19BCT0168)\n",
    "2. Aniruddha Sharma (19BCT0166)\n",
    "3. Saurabh Dahale (19BCT0179)\n",
    "4. Parth Maitrey (19BCT0188)"
   ]
  },
  {
   "cell_type": "code",
   "execution_count": 1,
   "id": "e7c5b032",
   "metadata": {},
   "outputs": [],
   "source": [
    "import numpy as np\n",
    "import matplotlib.pyplot as plt\n",
    "import pandas as pd"
   ]
  },
  {
   "cell_type": "code",
   "execution_count": 3,
   "id": "a5c59fe0",
   "metadata": {},
   "outputs": [],
   "source": [
    "dataset = pd.read_csv(r\"D:\\VIT\\Semester-5\\B1 CSE3009 (IoT)\\Project\\archive\\iot_telemetry_data.csv\")\n",
    "x = 10000\n",
    "df = []\n",
    "for i in range(len(dataset[\"device\"])):\n",
    "    if dataset.device[i] == \"1c:bf:ce:15:ec:4d\":\n",
    "        df.append(dataset.temp[i])\n",
    "train_set = df[:x+1]\n",
    "train_set = np.array(train_set).reshape(-1,1)"
   ]
  },
  {
   "cell_type": "code",
   "execution_count": 4,
   "id": "0d75ff87",
   "metadata": {},
   "outputs": [
    {
     "data": {
      "text/plain": [
       "10001"
      ]
     },
     "execution_count": 4,
     "metadata": {},
     "output_type": "execute_result"
    }
   ],
   "source": [
    "from sklearn.preprocessing import MinMaxScaler\n",
    "sc = MinMaxScaler()\n",
    "scaled_training = sc.fit_transform(train_set)\n",
    "scaled_training.size"
   ]
  },
  {
   "cell_type": "code",
   "execution_count": 5,
   "id": "0914464f",
   "metadata": {},
   "outputs": [],
   "source": [
    "x_train = []\n",
    "y_train = []\n",
    "days = 30\n",
    "size = scaled_training.size\n",
    " \n",
    "for i in range(days, size):\n",
    "    x_train.append(scaled_training[i-days:i, 0])\n",
    "    y_train.append(scaled_training[i,0])"
   ]
  },
  {
   "cell_type": "code",
   "execution_count": 6,
   "id": "2e48a0e1",
   "metadata": {},
   "outputs": [
    {
     "name": "stdout",
     "output_type": "stream",
     "text": [
      "2 1\n"
     ]
    },
    {
     "data": {
      "text/plain": [
       "array([[0.95390074],\n",
       "       [0.95390074],\n",
       "       [0.95390074],\n",
       "       [0.95390074],\n",
       "       [0.95390074],\n",
       "       [0.95390074],\n",
       "       [0.95390074],\n",
       "       [0.95390074],\n",
       "       [0.95390074],\n",
       "       [0.95390074],\n",
       "       [0.95390074],\n",
       "       [0.95390074],\n",
       "       [0.95390074],\n",
       "       [0.95390074],\n",
       "       [0.95390074],\n",
       "       [0.95390074],\n",
       "       [0.95390074],\n",
       "       [0.95390074],\n",
       "       [0.95390074],\n",
       "       [0.95390074],\n",
       "       [0.95390074],\n",
       "       [0.95390074],\n",
       "       [0.95390074],\n",
       "       [0.95390074],\n",
       "       [0.95390074],\n",
       "       [0.95390074],\n",
       "       [0.95390074],\n",
       "       [0.95390074],\n",
       "       [0.95390074],\n",
       "       [0.95390074]])"
      ]
     },
     "execution_count": 6,
     "metadata": {},
     "output_type": "execute_result"
    }
   ],
   "source": [
    "x_train, y_train = np.array(x_train), np.array(y_train)\n",
    "print(x_train.ndim, y_train.ndim)\n",
    "\n",
    "x_train = np.reshape(x_train, (x_train.shape[0], x_train.shape[1], 1))\n",
    "x_train[0]"
   ]
  },
  {
   "cell_type": "code",
   "execution_count": 7,
   "id": "5e32f57a",
   "metadata": {},
   "outputs": [
    {
     "name": "stdout",
     "output_type": "stream",
     "text": [
      "Epoch 1/10\n",
      "312/312 [==============================] - 15s 27ms/step - loss: 0.0281 - mae: 0.1075 - mse: 0.0281\n",
      "Epoch 2/10\n",
      "312/312 [==============================] - 9s 29ms/step - loss: 0.0089 - mae: 0.0725 - mse: 0.0089\n",
      "Epoch 3/10\n",
      "312/312 [==============================] - 11s 35ms/step - loss: 0.0081 - mae: 0.0691 - mse: 0.0081\n",
      "Epoch 4/10\n",
      "312/312 [==============================] - 11s 35ms/step - loss: 0.0073 - mae: 0.0654 - mse: 0.0073\n",
      "Epoch 5/10\n",
      "312/312 [==============================] - 11s 35ms/step - loss: 0.0063 - mae: 0.0607 - mse: 0.0063\n",
      "Epoch 6/10\n",
      "312/312 [==============================] - 11s 35ms/step - loss: 0.0057 - mae: 0.0568 - mse: 0.0057\n",
      "Epoch 7/10\n",
      "312/312 [==============================] - 10s 32ms/step - loss: 0.0051 - mae: 0.0532 - mse: 0.0051\n",
      "Epoch 8/10\n",
      "312/312 [==============================] - 10s 33ms/step - loss: 0.0044 - mae: 0.0490 - mse: 0.0044\n",
      "Epoch 9/10\n",
      "312/312 [==============================] - 10s 32ms/step - loss: 0.0038 - mae: 0.0444 - mse: 0.0038\n",
      "Epoch 10/10\n",
      "312/312 [==============================] - 9s 30ms/step - loss: 0.0033 - mae: 0.0413 - mse: 0.0033\n"
     ]
    },
    {
     "data": {
      "text/plain": [
       "<keras.callbacks.History at 0x255a4668e20>"
      ]
     },
     "execution_count": 7,
     "metadata": {},
     "output_type": "execute_result"
    }
   ],
   "source": [
    "from tensorflow.keras.models import Sequential\n",
    "from tensorflow.keras.layers import Dense, LSTM, Dropout\n",
    "\n",
    "model = Sequential()\n",
    "model.add(LSTM(units=days, return_sequences=True, input_shape=(days,1))) \n",
    "model.add(Dropout(0.2))\n",
    "model.add(LSTM(units=days, return_sequences=True, input_shape=(days,1))) \n",
    "model.add(Dropout(0.2))\n",
    "model.add(LSTM(units=days, return_sequences=True, input_shape=(days,1))) \n",
    "model.add(Dropout(0.2))\n",
    "model.add(LSTM(units=days)) \n",
    "model.add(Dropout(0.2))\n",
    "model.add(Dense(units=1))\n",
    "model.compile(optimizer=\"adam\", loss=\"mean_squared_error\", metrics=[\"mae\", \"mse\"])\n",
    "model.fit(x_train, y_train, epochs=10)"
   ]
  },
  {
   "cell_type": "code",
   "execution_count": 8,
   "id": "3430b160",
   "metadata": {},
   "outputs": [
    {
     "name": "stdout",
     "output_type": "stream",
     "text": [
      "(1000, 1)\n"
     ]
    },
    {
     "data": {
      "text/plain": [
       "array([28.10000038])"
      ]
     },
     "execution_count": 8,
     "metadata": {},
     "output_type": "execute_result"
    }
   ],
   "source": [
    "# dataset_test = pd.read_csv(r\"D:\\VIT\\Semester-5\\B1 CSE3009 (IoT)\\Project\\archive\\iot_telemetry_data.csv\")\n",
    "# y_test = df[x+1:x+1001]\n",
    "y_test = df[x+1:x+1001]\n",
    "y_test = np.array(y_test).reshape(-1,1)\n",
    "print(y_test.shape)\n",
    "y_test[29]"
   ]
  },
  {
   "cell_type": "code",
   "execution_count": 9,
   "id": "44fdc254",
   "metadata": {},
   "outputs": [
    {
     "data": {
      "text/plain": [
       "(95917, 1)"
      ]
     },
     "execution_count": 9,
     "metadata": {},
     "output_type": "execute_result"
    }
   ],
   "source": [
    "# inputs = dataset_test.iloc[:, 3:4].values\n",
    "# inputs = df[x+1:]\n",
    "inputs = df[x+1:]\n",
    "inputs = np.array(inputs)\n",
    "inputs = inputs.reshape(-1,1)\n",
    "inputs = sc.fit_transform(inputs)\n",
    "inputs.shape"
   ]
  },
  {
   "cell_type": "code",
   "execution_count": 10,
   "id": "17a84a26",
   "metadata": {},
   "outputs": [
    {
     "name": "stdout",
     "output_type": "stream",
     "text": [
      "(1000, 30)\n"
     ]
    },
    {
     "data": {
      "text/plain": [
       "array([[0.91830065],\n",
       "       [0.91830065],\n",
       "       [0.91830065],\n",
       "       [0.91830065],\n",
       "       [0.91830065],\n",
       "       [0.91830065],\n",
       "       [0.91830065],\n",
       "       [0.91830065],\n",
       "       [0.91830065],\n",
       "       [0.91830065],\n",
       "       [0.91830065],\n",
       "       [0.91830065],\n",
       "       [0.91830065],\n",
       "       [0.91830065],\n",
       "       [0.91830065],\n",
       "       [0.91830065],\n",
       "       [0.91830065],\n",
       "       [0.91830065],\n",
       "       [0.91830065],\n",
       "       [0.91830065],\n",
       "       [0.91830065],\n",
       "       [0.91830065],\n",
       "       [0.91830065],\n",
       "       [0.91830065],\n",
       "       [0.91830065],\n",
       "       [0.91830065],\n",
       "       [0.91830065],\n",
       "       [0.91830065],\n",
       "       [0.91830065],\n",
       "       [0.91830065]])"
      ]
     },
     "execution_count": 10,
     "metadata": {},
     "output_type": "execute_result"
    }
   ],
   "source": [
    "x_test = []\n",
    "y_test2 = []\n",
    "for i in range(days, days+1000):\n",
    "    x_test.append((inputs[i-days:i , 0]))\n",
    "    y_test2.append((inputs[i,0]))\n",
    "x_test = np.array(x_test)\n",
    "print(x_test.shape)\n",
    "x_test = np.reshape(x_test, (1000,days,1))\n",
    "x_test[29]"
   ]
  },
  {
   "cell_type": "code",
   "execution_count": 11,
   "id": "5447b26a",
   "metadata": {},
   "outputs": [
    {
     "data": {
      "text/plain": [
       "(1000, 1)"
      ]
     },
     "execution_count": 11,
     "metadata": {},
     "output_type": "execute_result"
    }
   ],
   "source": [
    "y_pred = model.predict(x_test)\n",
    "y_pred = sc.inverse_transform((y_pred))\n",
    "y_pred.shape"
   ]
  },
  {
   "cell_type": "code",
   "execution_count": 13,
   "id": "7b63d80f",
   "metadata": {},
   "outputs": [
    {
     "data": {
      "image/png": "[encoded data removed]",
      "text/plain": [
       "<Figure size 720x720 with 1 Axes>"
      ]
     },
     "metadata": {
      "needs_background": "light"
     },
     "output_type": "display_data"
    }
   ],
   "source": [
    "plt.rcParams[\"figure.figsize\"]=10,10\n",
    "plt.plot(y_test, color = 'red', label=\"actual\")\n",
    "plt.plot(y_pred, color = 'blue', label=\"predictede\")\n",
    "plt.legend()\n",
    "plt.savefig(r\"D:\\VIT\\Semester-5\\B1 CSE3009 (IoT)\\Project\\R2\\AI_model_output\", dpi=100, bbox_inches='tight', pad_inches=0)\n",
    "plt.show()"
   ]
  },
  {
   "cell_type": "code",
   "execution_count": 14,
   "id": "3ac783bc",
   "metadata": {},
   "outputs": [
    {
     "name": "stdout",
     "output_type": "stream",
     "text": [
      "[53, 56, 68, 51, 79, 75, 76, 65, 72, 58, 65, 78, 66, 68, 54, 66, 84, 71, 71, 51, 61, 66, 52, 76, 71, 61, 66, 79, 73, 57]\n"
     ]
    }
   ],
   "source": [
    "import random\n",
    "temp = []\n",
    "for i in range(0,30):\n",
    "    temp.append(random.randint(50, 85))\n",
    "print(temp)"
   ]
  },
  {
   "cell_type": "code",
   "execution_count": 15,
   "id": "a402c800",
   "metadata": {},
   "outputs": [
    {
     "name": "stdout",
     "output_type": "stream",
     "text": [
      "(1, 30, 1)\n"
     ]
    }
   ],
   "source": [
    "temp = np.array(temp)\n",
    "temp = temp.reshape(-1,1)\n",
    "temp = sc.fit_transform(temp)\n",
    "temp = np.reshape(temp, (1,30,1))\n",
    "print(temp.shape)"
   ]
  },
  {
   "cell_type": "code",
   "execution_count": 16,
   "id": "e1195c9c",
   "metadata": {},
   "outputs": [
    {
     "data": {
      "text/plain": [
       "array([[0.48042414]], dtype=float32)"
      ]
     },
     "execution_count": 16,
     "metadata": {},
     "output_type": "execute_result"
    }
   ],
   "source": [
    "y_temp = model.predict([temp])\n",
    "y_temp"
   ]
  },
  {
   "cell_type": "code",
   "execution_count": 17,
   "id": "1a1b7666",
   "metadata": {},
   "outputs": [
    {
     "data": {
      "text/plain": [
       "array([[66.854]], dtype=float32)"
      ]
     },
     "execution_count": 17,
     "metadata": {},
     "output_type": "execute_result"
    }
   ],
   "source": [
    "y_temp = sc.inverse_transform(y_temp)\n",
    "y_temp"
   ]
  },
  {
   "cell_type": "code",
   "execution_count": 18,
   "id": "2be516c6",
   "metadata": {},
   "outputs": [],
   "source": [
    "model.save(\"RNNmodel-Temperature.h5\")"
   ]
  },
  {
   "cell_type": "code",
   "execution_count": 20,
   "id": "f84ff131",
   "metadata": {},
   "outputs": [
    {
     "data": {
      "text/plain": [
       "['scaler2']"
      ]
     },
     "execution_count": 20,
     "metadata": {},
     "output_type": "execute_result"
    }
   ],
   "source": [
    "import joblib\n",
    "joblib.dump(sc, \"scaler2\")"
   ]
  }
 ],
 "metadata": {
  "kernelspec": {
   "display_name": "Python 3 (ipykernel)",
   "language": "python",
   "name": "python3"
  },
  "language_info": {
   "codemirror_mode": {
    "name": "ipython",
    "version": 3
   },
   "file_extension": ".py",
   "mimetype": "text/x-python",
   "name": "python",
   "nbconvert_exporter": "python",
   "pygments_lexer": "ipython3",
   "version": "3.8.12"
  }
 },
 "nbformat": 4,
 "nbformat_minor": 5
}
