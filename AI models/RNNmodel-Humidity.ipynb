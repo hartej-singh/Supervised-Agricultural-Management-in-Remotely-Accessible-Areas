{
 "cells": [
  {
   "cell_type": "markdown",
   "id": "9e4ae34b",
   "metadata": {},
   "source": [
    "# CSE3009 - Internet Of Things Project\n",
    "\n",
    "## RNN model for Humidity level prediction"
   ]
  },
  {
   "cell_type": "markdown",
   "id": "bd7b67c9",
   "metadata": {},
   "source": [
    "Team members-\n",
    "1. Hartej Singh (19BCT0168)\n",
    "2. Aniruddha Sharma (19BCT0166)\n",
    "3. Saurabh Dahale (19BCT0179)\n",
    "4. Parth Maitrey (19BCT0188)"
   ]
  },
  {
   "cell_type": "code",
   "execution_count": null,
   "id": "e7c5b032",
   "metadata": {},
   "outputs": [],
   "source": [
    "import numpy as np\n",
    "import matplotlib.pyplot as plt\n",
    "import pandas as pd"
   ]
  },
  {
   "cell_type": "code",
   "execution_count": null,
   "id": "a5c59fe0",
   "metadata": {},
   "outputs": [],
   "source": [
    "dataset = pd.read_csv(r\"D:\\VIT\\Semester-5\\B1 CSE3009 (IoT)\\Project\\archive\\iot_telemetry_data.csv\")\n",
    "x = 10000\n",
    "df = []\n",
    "for i in range(len(dataset[\"device\"])):\n",
    "    if dataset.device[i] == \"1c:bf:ce:15:ec:4d\":\n",
    "        df.append(dataset.humidity[i])\n",
    "train_set = df[:x+1]\n",
    "train_set = np.array(train_set).reshape(-1,1)"
   ]
  },
  {
   "cell_type": "code",
   "execution_count": null,
   "id": "0d75ff87",
   "metadata": {},
   "outputs": [],
   "source": [
    "from sklearn.preprocessing import MinMaxScaler\n",
    "sc = MinMaxScaler()\n",
    "scaled_training = sc.fit_transform(train_set)\n",
    "scaled_training.size"
   ]
  },
  {
   "cell_type": "code",
   "execution_count": null,
   "id": "0914464f",
   "metadata": {},
   "outputs": [],
   "source": [
    "x_train = []\n",
    "y_train = []\n",
    "days = 30\n",
    "size = scaled_training.size\n",
    " \n",
    "for i in range(days, size):\n",
    "    x_train.append(scaled_training[i-days:i, 0])\n",
    "    y_train.append(scaled_training[i,0])"
   ]
  },
  {
   "cell_type": "code",
   "execution_count": null,
   "id": "2e48a0e1",
   "metadata": {},
   "outputs": [],
   "source": [
    "x_train, y_train = np.array(x_train), np.array(y_train)\n",
    "print(x_train.ndim, y_train.ndim)\n",
    "\n",
    "x_train = np.reshape(x_train, (x_train.shape[0], x_train.shape[1], 1))\n",
    "x_train[0]"
   ]
  },
  {
   "cell_type": "code",
   "execution_count": null,
   "id": "5e32f57a",
   "metadata": {},
   "outputs": [],
   "source": [
    "from tensorflow.keras.models import Sequential\n",
    "from tensorflow.keras.layers import Dense, LSTM, Dropout\n",
    "\n",
    "model = Sequential()\n",
    "model.add(LSTM(units=days, return_sequences=True, input_shape=(days,1))) \n",
    "model.add(Dropout(0.2))\n",
    "model.add(LSTM(units=days, return_sequences=True, input_shape=(days,1))) \n",
    "model.add(Dropout(0.2))\n",
    "model.add(LSTM(units=days, return_sequences=True, input_shape=(days,1))) \n",
    "model.add(Dropout(0.2))\n",
    "model.add(LSTM(units=days)) \n",
    "model.add(Dropout(0.2))\n",
    "model.add(Dense(units=1))\n",
    "model.compile(optimizer=\"adam\", loss=\"mean_squared_error\", metrics=[\"mae\", \"mse\"])\n",
    "model.fit(x_train, y_train, epochs=10)"
   ]
  },
  {
   "cell_type": "code",
   "execution_count": null,
   "id": "3430b160",
   "metadata": {},
   "outputs": [],
   "source": [
    "# dataset_test = pd.read_csv(r\"D:\\VIT\\Semester-5\\B1 CSE3009 (IoT)\\Project\\archive\\iot_telemetry_data.csv\")\n",
    "# y_test = df[x+1:x+1001]\n",
    "y_test = df[x+1:x+1001]\n",
    "y_test = np.array(y_test).reshape(-1,1)\n",
    "print(y_test.shape)\n",
    "y_test[29]"
   ]
  },
  {
   "cell_type": "code",
   "execution_count": null,
   "id": "44fdc254",
   "metadata": {},
   "outputs": [],
   "source": [
    "# inputs = dataset_test.iloc[:, 3:4].values\n",
    "# inputs = df[x+1:]\n",
    "inputs = df[x+1:]\n",
    "inputs = np.array(inputs)\n",
    "inputs = inputs.reshape(-1,1)\n",
    "inputs = sc.fit_transform(inputs)\n",
    "inputs.shape"
   ]
  },
  {
   "cell_type": "code",
   "execution_count": null,
   "id": "17a84a26",
   "metadata": {},
   "outputs": [],
   "source": [
    "x_test = []\n",
    "y_test2 = []\n",
    "for i in range(days, days+1000):\n",
    "    x_test.append((inputs[i-days:i , 0]))\n",
    "    y_test2.append((inputs[i,0]))\n",
    "x_test = np.array(x_test)\n",
    "print(x_test.shape)\n",
    "x_test = np.reshape(x_test, (1000,days,1))\n",
    "x_test[29]"
   ]
  },
  {
   "cell_type": "code",
   "execution_count": null,
   "id": "5447b26a",
   "metadata": {},
   "outputs": [],
   "source": [
    "y_pred = model.predict(x_test)\n",
    "y_pred = sc.inverse_transform((y_pred))\n",
    "y_pred.shape"
   ]
  },
  {
   "cell_type": "code",
   "execution_count": null,
   "id": "afab3e4d",
   "metadata": {
    "scrolled": true
   },
   "outputs": [],
   "source": [
    "from sklearn.metrics import r2_score\n",
    "acc = r2_score(y_pred, y_test)\n",
    "print(acc)"
   ]
  },
  {
   "cell_type": "code",
   "execution_count": null,
   "id": "7b63d80f",
   "metadata": {},
   "outputs": [],
   "source": [
    "plt.rcParams[\"figure.figsize\"]=10,10\n",
    "plt.plot(y_test, color = 'red', label=\"actual\")\n",
    "plt.plot(y_pred, color = 'blue', label=\"predicted\")\n",
    "plt.legend()\n",
    "plt.savefig(r\"D:\\VIT\\Semester-5\\B1 CSE3009 (IoT)\\Project\\R2\\AI_model_output\", dpi=100, bbox_inches='tight', pad_inches=0)\n",
    "plt.show()"
   ]
  },
  {
   "cell_type": "code",
   "execution_count": null,
   "id": "3ac783bc",
   "metadata": {},
   "outputs": [],
   "source": [
    "import random\n",
    "temp = []\n",
    "for i in range(0,30):\n",
    "    temp.append(random.randint(50, 85))\n",
    "print(temp)"
   ]
  },
  {
   "cell_type": "code",
   "execution_count": null,
   "id": "982630e6",
   "metadata": {},
   "outputs": [],
   "source": [
    "temp = np.array(temp)\n",
    "temp = temp.reshape(-1,1)\n",
    "temp = sc.fit_transform(temp)\n",
    "temp = np.reshape(temp, (1,30,1))\n",
    "print(temp.shape)"
   ]
  },
  {
   "cell_type": "code",
   "execution_count": null,
   "id": "681a70d6",
   "metadata": {},
   "outputs": [],
   "source": [
    "y_temp = model.predict([temp])\n",
    "y_temp"
   ]
  },
  {
   "cell_type": "code",
   "execution_count": null,
   "id": "767b64a8",
   "metadata": {},
   "outputs": [],
   "source": [
    "y_temp = sc.inverse_transform(y_temp)\n",
    "y_temp"
   ]
  },
  {
   "cell_type": "code",
   "execution_count": null,
   "id": "1b896c99",
   "metadata": {},
   "outputs": [],
   "source": [
    "model.save(\"RNNmodel-Humidity.h5\")"
   ]
  },
  {
   "cell_type": "code",
   "execution_count": null,
   "id": "9dffe268",
   "metadata": {},
   "outputs": [],
   "source": [
    "import joblib\n",
    "joblib.dump(sc, \"scaler\")"
   ]
  },
  {
   "cell_type": "code",
   "execution_count": null,
   "id": "41b6a005",
   "metadata": {},
   "outputs": [],
   "source": []
  }
 ],
 "metadata": {
  "kernelspec": {
   "display_name": "Python 3 (ipykernel)",
   "language": "python",
   "name": "python3"
  },
  "language_info": {
   "codemirror_mode": {
    "name": "ipython",
    "version": 3
   },
   "file_extension": ".py",
   "mimetype": "text/x-python",
   "name": "python",
   "nbconvert_exporter": "python",
   "pygments_lexer": "ipython3",
   "version": "3.8.12"
  }
 },
 "nbformat": 4,
 "nbformat_minor": 5
}
